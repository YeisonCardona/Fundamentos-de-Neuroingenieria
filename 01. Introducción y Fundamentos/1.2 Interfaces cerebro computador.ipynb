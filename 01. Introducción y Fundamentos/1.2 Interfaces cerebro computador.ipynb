{
 "cells": [
  {
   "cell_type": "markdown",
   "id": "31a69e7e-1b35-4179-9330-f2bb01c4470e",
   "metadata": {},
   "source": [
    "# Principios Básicos de los Sistemas BCI"
   ]
  },
  {
   "cell_type": "code",
   "execution_count": null,
   "id": "b32fb546-e41b-4566-aef2-0babce34097c",
   "metadata": {},
   "outputs": [],
   "source": [
    "- **Definición de BCI**: Interfaz que permite la comunicación directa entre el cerebro y dispositivos externos.\n",
    "- **Tipos de BCI**: Invasivos, no invasivos, y parcialmente invasivos.\n",
    "- **Aplicaciones de BCI**: Asistencia, mejora de funciones, rehabilitación, etc.\n",
    "- **Desafíos y Consideraciones Éticas**: Privacidad, seguridad, accesibilidad."
   ]
  }
 ],
 "metadata": {
  "kernelspec": {
   "display_name": "Python 3 (ipykernel)",
   "language": "python",
   "name": "python3"
  },
  "language_info": {
   "codemirror_mode": {
    "name": "ipython",
    "version": 3
   },
   "file_extension": ".py",
   "mimetype": "text/x-python",
   "name": "python",
   "nbconvert_exporter": "python",
   "pygments_lexer": "ipython3",
   "version": "3.11.3"
  }
 },
 "nbformat": 4,
 "nbformat_minor": 5
}
